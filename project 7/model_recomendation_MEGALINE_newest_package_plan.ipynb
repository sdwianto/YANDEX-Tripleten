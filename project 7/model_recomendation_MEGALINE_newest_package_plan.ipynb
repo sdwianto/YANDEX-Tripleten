{
 "cells": [
  {
   "cell_type": "markdown",
   "metadata": {},
   "source": [
    "# Contens\n",
    "\n",
    "- Project Description\n",
    "- Data Description\n",
    "- Project Instruction :\n",
    "  - Open the dataset, separate in to the training set, validation set, and test set.\n",
    "  - Check the quality of different models by changing their hyperparameters.\n",
    "  - Check the quality of the model by using the test set.\n",
    "  - Perform a sanity check on the model\n",
    "- Conclusion"
   ]
  },
  {
   "cell_type": "markdown",
   "metadata": {},
   "source": [
    "## Project Description\n",
    "\n",
    "MEGALINE mobile operator is dissatisfied that many of their customers are still using the old plan. The company wanted to develop a model that could analyze consumer behavior and recommend one of Megaline's two newest plans: Smart or Ultra.\n",
    "\n",
    "Goals :\n",
    "- Develop a model to analyze the customer behaviour and recomend the plan package, with :\n",
    "  - highest accuracy\n",
    "  - accuracy lower limit : 0.75\n",
    "  - check the model accuracy metric with test dataset"
   ]
  },
  {
   "cell_type": "markdown",
   "metadata": {},
   "source": [
    "## Data Descrption\n",
    "\n",
    "- The dataset containing every single user monthly behaviour, as follows :\n",
    "  - calls   : number of call\n",
    "  - minutes : total call duration ( in minutes )\n",
    "  - message : number of text message\n",
    "  - mb_used : usage internet traffic in MB\n",
    "  - is_ultra: data plan in current month ( Ultra = 1, Smart = 0)"
   ]
  },
  {
   "cell_type": "markdown",
   "metadata": {},
   "source": [
    "## Project Instruction\n",
    "\n",
    "File path: /datasets/users_behavior.csv\n",
    "\n",
    "note : data already prepared ( ready for further analize )\n"
   ]
  },
  {
   "cell_type": "markdown",
   "metadata": {},
   "source": [
    "### Open the dataset"
   ]
  },
  {
   "cell_type": "code",
   "execution_count": 1,
   "metadata": {},
   "outputs": [],
   "source": [
    "import pandas as pd\n",
    "import numpy as np\n",
    "\n",
    "from sklearn.tree import DecisionTreeClassifier\n",
    "from sklearn.ensemble import RandomForestClassifier\n",
    "from sklearn.linear_model import LogisticRegression\n",
    "\n",
    "from sklearn.model_selection import train_test_split\n",
    "from sklearn.metrics import mean_squared_error\n",
    "from sklearn.metrics import accuracy_score\n",
    "\n",
    "#open the dataset\n",
    "df = pd.read_csv('/datasets/users_behavior.csv')"
   ]
  },
  {
   "cell_type": "code",
   "execution_count": 2,
   "metadata": {},
   "outputs": [
    {
     "data": {
      "text/html": [
       "<div>\n",
       "<style scoped>\n",
       "    .dataframe tbody tr th:only-of-type {\n",
       "        vertical-align: middle;\n",
       "    }\n",
       "\n",
       "    .dataframe tbody tr th {\n",
       "        vertical-align: top;\n",
       "    }\n",
       "\n",
       "    .dataframe thead th {\n",
       "        text-align: right;\n",
       "    }\n",
       "</style>\n",
       "<table border=\"1\" class=\"dataframe\">\n",
       "  <thead>\n",
       "    <tr style=\"text-align: right;\">\n",
       "      <th></th>\n",
       "      <th>calls</th>\n",
       "      <th>minutes</th>\n",
       "      <th>messages</th>\n",
       "      <th>mb_used</th>\n",
       "      <th>is_ultra</th>\n",
       "    </tr>\n",
       "  </thead>\n",
       "  <tbody>\n",
       "    <tr>\n",
       "      <th>0</th>\n",
       "      <td>40.0</td>\n",
       "      <td>311.90</td>\n",
       "      <td>83.0</td>\n",
       "      <td>19915.42</td>\n",
       "      <td>0</td>\n",
       "    </tr>\n",
       "    <tr>\n",
       "      <th>1</th>\n",
       "      <td>85.0</td>\n",
       "      <td>516.75</td>\n",
       "      <td>56.0</td>\n",
       "      <td>22696.96</td>\n",
       "      <td>0</td>\n",
       "    </tr>\n",
       "    <tr>\n",
       "      <th>2</th>\n",
       "      <td>77.0</td>\n",
       "      <td>467.66</td>\n",
       "      <td>86.0</td>\n",
       "      <td>21060.45</td>\n",
       "      <td>0</td>\n",
       "    </tr>\n",
       "    <tr>\n",
       "      <th>3</th>\n",
       "      <td>106.0</td>\n",
       "      <td>745.53</td>\n",
       "      <td>81.0</td>\n",
       "      <td>8437.39</td>\n",
       "      <td>1</td>\n",
       "    </tr>\n",
       "    <tr>\n",
       "      <th>4</th>\n",
       "      <td>66.0</td>\n",
       "      <td>418.74</td>\n",
       "      <td>1.0</td>\n",
       "      <td>14502.75</td>\n",
       "      <td>0</td>\n",
       "    </tr>\n",
       "  </tbody>\n",
       "</table>\n",
       "</div>"
      ],
      "text/plain": [
       "   calls  minutes  messages   mb_used  is_ultra\n",
       "0   40.0   311.90      83.0  19915.42         0\n",
       "1   85.0   516.75      56.0  22696.96         0\n",
       "2   77.0   467.66      86.0  21060.45         0\n",
       "3  106.0   745.53      81.0   8437.39         1\n",
       "4   66.0   418.74       1.0  14502.75         0"
      ]
     },
     "execution_count": 2,
     "metadata": {},
     "output_type": "execute_result"
    }
   ],
   "source": [
    "#check dataset\n",
    "df.head()"
   ]
  },
  {
   "cell_type": "code",
   "execution_count": 3,
   "metadata": {},
   "outputs": [
    {
     "data": {
      "text/plain": [
       "calls       0\n",
       "minutes     0\n",
       "messages    0\n",
       "mb_used     0\n",
       "is_ultra    0\n",
       "dtype: int64"
      ]
     },
     "execution_count": 3,
     "metadata": {},
     "output_type": "execute_result"
    }
   ],
   "source": [
    "#checking dataset missing value\n",
    "df.isnull().sum()"
   ]
  },
  {
   "cell_type": "code",
   "execution_count": 4,
   "metadata": {},
   "outputs": [
    {
     "name": "stdout",
     "output_type": "stream",
     "text": [
      "<class 'pandas.core.frame.DataFrame'>\n",
      "RangeIndex: 3214 entries, 0 to 3213\n",
      "Data columns (total 5 columns):\n",
      " #   Column    Non-Null Count  Dtype  \n",
      "---  ------    --------------  -----  \n",
      " 0   calls     3214 non-null   float64\n",
      " 1   minutes   3214 non-null   float64\n",
      " 2   messages  3214 non-null   float64\n",
      " 3   mb_used   3214 non-null   float64\n",
      " 4   is_ultra  3214 non-null   int64  \n",
      "dtypes: float64(4), int64(1)\n",
      "memory usage: 125.7 KB\n"
     ]
    }
   ],
   "source": [
    "#checking dataset info\n",
    "df.info()"
   ]
  },
  {
   "cell_type": "markdown",
   "metadata": {},
   "source": [
    "### Separate the dataset into training set, validation set, and test set data\n",
    "\n",
    "- training + validation --> to develop the model + tunning hypermaparameters\n",
    "  - final model\n",
    "- test set --> to be used for testing the final model\n"
   ]
  },
  {
   "cell_type": "code",
   "execution_count": 5,
   "metadata": {},
   "outputs": [
    {
     "name": "stdout",
     "output_type": "stream",
     "text": [
      "(1928, 4)\n",
      "(643, 4)\n",
      "(643, 4)\n"
     ]
    }
   ],
   "source": [
    "#separate it in to the training set, validation set, and test set\n",
    "\n",
    "train_valid, test = train_test_split(df, test_size = 0.2)\n",
    "train, valid = train_test_split(train_valid, test_size = 0.25)\n",
    "\n",
    "#train\n",
    "features_train = train.drop(['is_ultra'], axis=1)\n",
    "target_train = train['is_ultra']\n",
    "\n",
    "#validation\n",
    "features_valid = valid.drop(['is_ultra'], axis=1)\n",
    "target_valid = valid['is_ultra']\n",
    "\n",
    "#test\n",
    "features_test = test.drop(['is_ultra'], axis=1)\n",
    "target_test = test['is_ultra']\n",
    "\n",
    "#check features shape\n",
    "print(features_train.shape)\n",
    "print(features_valid.shape)\n",
    "print(features_test.shape)"
   ]
  },
  {
   "cell_type": "code",
   "execution_count": 6,
   "metadata": {},
   "outputs": [
    {
     "data": {
      "text/plain": [
       "(3214, 5)"
      ]
     },
     "execution_count": 6,
     "metadata": {},
     "output_type": "execute_result"
    }
   ],
   "source": [
    "#check dataset shape\n",
    "df.shape"
   ]
  },
  {
   "cell_type": "markdown",
   "metadata": {},
   "source": [
    "- note\n",
    "  - after separation processes :\n",
    "    - dataset shape and features shape is in the same value ( 1928 + 643 + 643 = 3124 )\n",
    "    - separatation has been done with the correct result"
   ]
  },
  {
   "cell_type": "code",
   "execution_count": 7,
   "metadata": {},
   "outputs": [
    {
     "data": {
      "text/html": [
       "<div>\n",
       "<style scoped>\n",
       "    .dataframe tbody tr th:only-of-type {\n",
       "        vertical-align: middle;\n",
       "    }\n",
       "\n",
       "    .dataframe tbody tr th {\n",
       "        vertical-align: top;\n",
       "    }\n",
       "\n",
       "    .dataframe thead th {\n",
       "        text-align: right;\n",
       "    }\n",
       "</style>\n",
       "<table border=\"1\" class=\"dataframe\">\n",
       "  <thead>\n",
       "    <tr style=\"text-align: right;\">\n",
       "      <th></th>\n",
       "      <th>calls</th>\n",
       "      <th>minutes</th>\n",
       "      <th>messages</th>\n",
       "      <th>mb_used</th>\n",
       "    </tr>\n",
       "  </thead>\n",
       "  <tbody>\n",
       "    <tr>\n",
       "      <th>1463</th>\n",
       "      <td>7.0</td>\n",
       "      <td>22.96</td>\n",
       "      <td>7.0</td>\n",
       "      <td>12762.99</td>\n",
       "    </tr>\n",
       "    <tr>\n",
       "      <th>1530</th>\n",
       "      <td>10.0</td>\n",
       "      <td>94.06</td>\n",
       "      <td>8.0</td>\n",
       "      <td>621.63</td>\n",
       "    </tr>\n",
       "    <tr>\n",
       "      <th>1402</th>\n",
       "      <td>87.0</td>\n",
       "      <td>637.26</td>\n",
       "      <td>81.0</td>\n",
       "      <td>12511.37</td>\n",
       "    </tr>\n",
       "    <tr>\n",
       "      <th>2982</th>\n",
       "      <td>50.0</td>\n",
       "      <td>362.53</td>\n",
       "      <td>0.0</td>\n",
       "      <td>18476.21</td>\n",
       "    </tr>\n",
       "    <tr>\n",
       "      <th>1905</th>\n",
       "      <td>50.0</td>\n",
       "      <td>386.20</td>\n",
       "      <td>20.0</td>\n",
       "      <td>17963.49</td>\n",
       "    </tr>\n",
       "  </tbody>\n",
       "</table>\n",
       "</div>"
      ],
      "text/plain": [
       "      calls  minutes  messages   mb_used\n",
       "1463    7.0    22.96       7.0  12762.99\n",
       "1530   10.0    94.06       8.0    621.63\n",
       "1402   87.0   637.26      81.0  12511.37\n",
       "2982   50.0   362.53       0.0  18476.21\n",
       "1905   50.0   386.20      20.0  17963.49"
      ]
     },
     "execution_count": 7,
     "metadata": {},
     "output_type": "execute_result"
    }
   ],
   "source": [
    "#check features_train dataset\n",
    "features_train.head()"
   ]
  },
  {
   "cell_type": "code",
   "execution_count": 8,
   "metadata": {},
   "outputs": [
    {
     "data": {
      "text/html": [
       "<div>\n",
       "<style scoped>\n",
       "    .dataframe tbody tr th:only-of-type {\n",
       "        vertical-align: middle;\n",
       "    }\n",
       "\n",
       "    .dataframe tbody tr th {\n",
       "        vertical-align: top;\n",
       "    }\n",
       "\n",
       "    .dataframe thead th {\n",
       "        text-align: right;\n",
       "    }\n",
       "</style>\n",
       "<table border=\"1\" class=\"dataframe\">\n",
       "  <thead>\n",
       "    <tr style=\"text-align: right;\">\n",
       "      <th></th>\n",
       "      <th>calls</th>\n",
       "      <th>minutes</th>\n",
       "      <th>messages</th>\n",
       "      <th>mb_used</th>\n",
       "    </tr>\n",
       "  </thead>\n",
       "  <tbody>\n",
       "    <tr>\n",
       "      <th>2806</th>\n",
       "      <td>107.0</td>\n",
       "      <td>733.45</td>\n",
       "      <td>98.0</td>\n",
       "      <td>10756.78</td>\n",
       "    </tr>\n",
       "    <tr>\n",
       "      <th>1019</th>\n",
       "      <td>77.0</td>\n",
       "      <td>530.07</td>\n",
       "      <td>69.0</td>\n",
       "      <td>12697.45</td>\n",
       "    </tr>\n",
       "    <tr>\n",
       "      <th>3002</th>\n",
       "      <td>35.0</td>\n",
       "      <td>213.87</td>\n",
       "      <td>15.0</td>\n",
       "      <td>20097.61</td>\n",
       "    </tr>\n",
       "    <tr>\n",
       "      <th>1321</th>\n",
       "      <td>56.0</td>\n",
       "      <td>302.74</td>\n",
       "      <td>70.0</td>\n",
       "      <td>29223.17</td>\n",
       "    </tr>\n",
       "    <tr>\n",
       "      <th>46</th>\n",
       "      <td>76.0</td>\n",
       "      <td>535.91</td>\n",
       "      <td>65.0</td>\n",
       "      <td>11968.22</td>\n",
       "    </tr>\n",
       "  </tbody>\n",
       "</table>\n",
       "</div>"
      ],
      "text/plain": [
       "      calls  minutes  messages   mb_used\n",
       "2806  107.0   733.45      98.0  10756.78\n",
       "1019   77.0   530.07      69.0  12697.45\n",
       "3002   35.0   213.87      15.0  20097.61\n",
       "1321   56.0   302.74      70.0  29223.17\n",
       "46     76.0   535.91      65.0  11968.22"
      ]
     },
     "execution_count": 8,
     "metadata": {},
     "output_type": "execute_result"
    }
   ],
   "source": [
    "#check features_valid dataset\n",
    "features_valid.head()"
   ]
  },
  {
   "cell_type": "code",
   "execution_count": 9,
   "metadata": {},
   "outputs": [
    {
     "data": {
      "text/html": [
       "<div>\n",
       "<style scoped>\n",
       "    .dataframe tbody tr th:only-of-type {\n",
       "        vertical-align: middle;\n",
       "    }\n",
       "\n",
       "    .dataframe tbody tr th {\n",
       "        vertical-align: top;\n",
       "    }\n",
       "\n",
       "    .dataframe thead th {\n",
       "        text-align: right;\n",
       "    }\n",
       "</style>\n",
       "<table border=\"1\" class=\"dataframe\">\n",
       "  <thead>\n",
       "    <tr style=\"text-align: right;\">\n",
       "      <th></th>\n",
       "      <th>calls</th>\n",
       "      <th>minutes</th>\n",
       "      <th>messages</th>\n",
       "      <th>mb_used</th>\n",
       "    </tr>\n",
       "  </thead>\n",
       "  <tbody>\n",
       "    <tr>\n",
       "      <th>1346</th>\n",
       "      <td>49.0</td>\n",
       "      <td>310.78</td>\n",
       "      <td>3.0</td>\n",
       "      <td>11506.66</td>\n",
       "    </tr>\n",
       "    <tr>\n",
       "      <th>1284</th>\n",
       "      <td>29.0</td>\n",
       "      <td>192.29</td>\n",
       "      <td>73.0</td>\n",
       "      <td>14620.52</td>\n",
       "    </tr>\n",
       "    <tr>\n",
       "      <th>3057</th>\n",
       "      <td>59.0</td>\n",
       "      <td>381.49</td>\n",
       "      <td>47.0</td>\n",
       "      <td>17272.81</td>\n",
       "    </tr>\n",
       "    <tr>\n",
       "      <th>827</th>\n",
       "      <td>54.0</td>\n",
       "      <td>448.87</td>\n",
       "      <td>0.0</td>\n",
       "      <td>9670.72</td>\n",
       "    </tr>\n",
       "    <tr>\n",
       "      <th>1195</th>\n",
       "      <td>66.0</td>\n",
       "      <td>462.58</td>\n",
       "      <td>100.0</td>\n",
       "      <td>11846.31</td>\n",
       "    </tr>\n",
       "  </tbody>\n",
       "</table>\n",
       "</div>"
      ],
      "text/plain": [
       "      calls  minutes  messages   mb_used\n",
       "1346   49.0   310.78       3.0  11506.66\n",
       "1284   29.0   192.29      73.0  14620.52\n",
       "3057   59.0   381.49      47.0  17272.81\n",
       "827    54.0   448.87       0.0   9670.72\n",
       "1195   66.0   462.58     100.0  11846.31"
      ]
     },
     "execution_count": 9,
     "metadata": {},
     "output_type": "execute_result"
    }
   ],
   "source": [
    "#check features_test dataset\n",
    "features_test.head()"
   ]
  },
  {
   "cell_type": "markdown",
   "metadata": {},
   "source": [
    "### Check the quality of different models by changing their hyperparameters."
   ]
  },
  {
   "cell_type": "markdown",
   "metadata": {},
   "source": [
    "#### Model with default hyperparameters / without tunning hyperparameters"
   ]
  },
  {
   "cell_type": "code",
   "execution_count": 10,
   "metadata": {},
   "outputs": [
    {
     "name": "stdout",
     "output_type": "stream",
     "text": [
      "DecissionTree Regression without hyperparameter tunning\n",
      "validation accuracy score :  71.22861586314151\n",
      "testing accuracy score    :  73.71695178849144\n"
     ]
    }
   ],
   "source": [
    "#Decission Tree Regression without hyperparameter tunning\n",
    "\n",
    "dtree = DecisionTreeClassifier()\n",
    "dtree.fit(features_train, target_train)\n",
    "\n",
    "y_prediction_valid = dtree.predict(features_valid)\n",
    "y_prediction_test = dtree.predict(features_test)\n",
    "\n",
    "print('DecissionTree Regression without hyperparameter tunning')\n",
    "print ('validation accuracy score : ',accuracy_score (target_valid, y_prediction_valid)*100)\n",
    "print ('testing accuracy score    : ',accuracy_score (target_test, y_prediction_test)*100)"
   ]
  },
  {
   "cell_type": "markdown",
   "metadata": {},
   "source": [
    "- Findings :\n",
    "  - the range of validation and testing accuracy scores is quite close\n",
    "  - data is not overfitting"
   ]
  },
  {
   "cell_type": "code",
   "execution_count": 11,
   "metadata": {},
   "outputs": [
    {
     "name": "stdout",
     "output_type": "stream",
     "text": [
      "Logistic Regression without hyperparameter tunning\n",
      "training accuracy score   :  74.79253112033194\n",
      "validation accuracy score :  76.82737169517885\n"
     ]
    }
   ],
   "source": [
    "#Logistic Regression without hyperparameter tunning\n",
    "\n",
    "log_reg = LogisticRegression()\n",
    "log_reg.fit(features_train, target_train)\n",
    "\n",
    "y_prediction_train_2 = log_reg.predict(features_train)\n",
    "y_prediction_valid_2 = log_reg.predict(features_valid)\n",
    "\n",
    "print('Logistic Regression without hyperparameter tunning')\n",
    "print ('training accuracy score   : ',accuracy_score (target_train, y_prediction_train_2)*100)\n",
    "print ('validation accuracy score : ',accuracy_score (target_valid, y_prediction_valid_2)*100)"
   ]
  },
  {
   "cell_type": "markdown",
   "metadata": {},
   "source": [
    "- Findings :\n",
    "  - the range of validation and testing accuracy scores is quite close\n",
    "  - data is not overfitting"
   ]
  },
  {
   "cell_type": "code",
   "execution_count": 12,
   "metadata": {},
   "outputs": [
    {
     "name": "stdout",
     "output_type": "stream",
     "text": [
      "RandomForest without hyperparameter tunning\n",
      "validation accuracy score :  78.0715396578538\n",
      "testing accuracy score    :  81.49300155520996\n"
     ]
    }
   ],
   "source": [
    "#RandomForest without hyperparameter tunning\n",
    "rf = RandomForestClassifier()\n",
    "rf.fit(features_train, target_train)\n",
    "\n",
    "y_prediction_valid_3 = rf.predict(features_valid)\n",
    "y_prediction_test_3 = rf.predict(features_test)\n",
    "\n",
    "print('RandomForest without hyperparameter tunning')\n",
    "print ('validation accuracy score : ',accuracy_score (target_valid, y_prediction_valid_3)*100)\n",
    "print ('testing accuracy score    : ',accuracy_score (target_test, y_prediction_test_3)*100)"
   ]
  },
  {
   "cell_type": "markdown",
   "metadata": {},
   "source": [
    "- Findings :\n",
    "  - the range of validation and testing accuracy scores is quite close\n",
    "  - data is not overfitting"
   ]
  },
  {
   "cell_type": "markdown",
   "metadata": {},
   "source": [
    "#### DecisionTree Regression with tunning hyperparameters"
   ]
  },
  {
   "cell_type": "code",
   "execution_count": 13,
   "metadata": {},
   "outputs": [
    {
     "name": "stdout",
     "output_type": "stream",
     "text": [
      "for max depth 1 \n",
      "   the training accuration value is : 75.15560165975104 and validation accuration value is : 75.11664074650078 \n",
      "\n",
      "for max depth 2 \n",
      "   the training accuration value is : 77.69709543568464 and validation accuration value is : 76.98289269051321 \n",
      "\n",
      "for max depth 3 \n",
      "   the training accuration value is : 79.51244813278008 and validation accuration value is : 78.22706065318819 \n",
      "\n",
      "for max depth 4 \n",
      "   the training accuration value is : 81.32780082987551 and validation accuration value is : 78.38258164852256 \n",
      "\n",
      "for max depth 5 \n",
      "   the training accuration value is : 82.4688796680498 and validation accuration value is : 78.53810264385692 \n",
      "\n",
      "for max depth 6 \n",
      "   the training accuration value is : 83.92116182572614 and validation accuration value is : 79.16018662519441 \n",
      "\n",
      "for max depth 7 \n",
      "   the training accuration value is : 84.64730290456431 and validation accuration value is : 78.69362363919129 \n",
      "\n",
      "for max depth 8 \n",
      "   the training accuration value is : 85.4253112033195 and validation accuration value is : 79.62674961119751 \n",
      "\n",
      "for max depth 9 \n",
      "   the training accuration value is : 86.82572614107885 and validation accuration value is : 79.31570762052877 \n",
      "\n"
     ]
    }
   ],
   "source": [
    "#looking optimum hyperparameter value\n",
    "max_dept_list = [1,2,3,4,5,6,7,8,9]\n",
    "for md in max_dept_list:\n",
    "    dtree = DecisionTreeClassifier(max_depth=md)\n",
    "    dtree.fit(features_train, target_train)\n",
    "\n",
    "    y_prediction_valid = dtree.predict(features_valid)\n",
    "    y_prediction_train = dtree.predict(features_train)\n",
    "\n",
    "    acc_train = accuracy_score (target_train, y_prediction_train)*100\n",
    "    acc_valid = accuracy_score (target_valid, y_prediction_valid)*100\n",
    "\n",
    "    print(f'for max depth {md} ')\n",
    "    print(f'   the training accuration value is : {acc_train} and validation accuration value is : {acc_valid} ')\n",
    "    print('')\n"
   ]
  },
  {
   "cell_type": "markdown",
   "metadata": {},
   "source": [
    "findings :\n",
    "- max depth 3 has the clossest value of training accuracy and validation accuracy score is 0.353\n",
    "- max depth 3 will be chosen as best_max_depth value"
   ]
  },
  {
   "cell_type": "code",
   "execution_count": 14,
   "metadata": {},
   "outputs": [
    {
     "name": "stdout",
     "output_type": "stream",
     "text": [
      "79.51244813278008\n",
      "78.22706065318819\n",
      "79.78227060653188\n"
     ]
    }
   ],
   "source": [
    "#hyperparameters tunning\n",
    "best_max_depth = 3\n",
    "dtree = DecisionTreeClassifier(max_depth=best_max_depth)\n",
    "dtree.fit(features_train, target_train)\n",
    "\n",
    "y_prediction_train_2 = dtree.predict(features_train)\n",
    "y_prediction_valid_2 = dtree.predict(features_valid)\n",
    "y_prediction_test_2 = dtree.predict(features_test)\n",
    "\n",
    "print(accuracy_score (target_train, y_prediction_train_2)*100)\n",
    "print(accuracy_score (target_valid, y_prediction_valid_2)*100)\n",
    "print(accuracy_score (target_test, y_prediction_test_2)*100)"
   ]
  },
  {
   "cell_type": "markdown",
   "metadata": {},
   "source": [
    "DecisionTree regression findings :\n",
    "\n",
    "- with max_depth = 3, the quality of model with hyperparameters tuning :\n",
    "  - validation accuracy score increasing from 70.13996889580093 to 79.93779160186625\n",
    "  - testing accuracy score increasing from 72.00622083981337 to 77.91601866251943"
   ]
  },
  {
   "cell_type": "markdown",
   "metadata": {},
   "source": [
    "#### Random Forrest Regression"
   ]
  },
  {
   "cell_type": "code",
   "execution_count": 19,
   "metadata": {
    "scrolled": true
   },
   "outputs": [
    {
     "name": "stdout",
     "output_type": "stream",
     "text": [
      "for max depth 1 and estimator 100\n",
      "   the validation accuration value is : 75.58320373250389 \n",
      "\n",
      "for max depth 1 and estimator 200\n",
      "   the validation accuration value is : 75.58320373250389 \n",
      "\n",
      "for max depth 1 and estimator 300\n",
      "   the validation accuration value is : 75.27216174183515 \n",
      "\n",
      "for max depth 1 and estimator 400\n",
      "   the validation accuration value is : 75.58320373250389 \n",
      "\n",
      "for max depth 1 and estimator 500\n",
      "   the validation accuration value is : 75.89424572317263 \n",
      "\n",
      "for max depth 2 and estimator 100\n",
      "   the validation accuration value is : 78.69362363919129 \n",
      "\n",
      "for max depth 2 and estimator 200\n",
      "   the validation accuration value is : 78.38258164852256 \n",
      "\n",
      "for max depth 2 and estimator 300\n",
      "   the validation accuration value is : 78.84914463452566 \n",
      "\n",
      "for max depth 2 and estimator 400\n",
      "   the validation accuration value is : 79.00466562986003 \n",
      "\n",
      "for max depth 2 and estimator 500\n",
      "   the validation accuration value is : 78.84914463452566 \n",
      "\n",
      "for max depth 3 and estimator 100\n",
      "   the validation accuration value is : 80.40435458786936 \n",
      "\n",
      "for max depth 3 and estimator 200\n",
      "   the validation accuration value is : 79.78227060653188 \n",
      "\n",
      "for max depth 3 and estimator 300\n",
      "   the validation accuration value is : 79.62674961119751 \n",
      "\n",
      "for max depth 3 and estimator 400\n",
      "   the validation accuration value is : 80.40435458786936 \n",
      "\n",
      "for max depth 3 and estimator 500\n",
      "   the validation accuration value is : 79.78227060653188 \n",
      "\n",
      "for max depth 4 and estimator 100\n",
      "   the validation accuration value is : 79.93779160186625 \n",
      "\n",
      "for max depth 4 and estimator 200\n",
      "   the validation accuration value is : 79.62674961119751 \n",
      "\n",
      "for max depth 4 and estimator 300\n",
      "   the validation accuration value is : 79.78227060653188 \n",
      "\n",
      "for max depth 4 and estimator 400\n",
      "   the validation accuration value is : 79.93779160186625 \n",
      "\n",
      "for max depth 4 and estimator 500\n",
      "   the validation accuration value is : 79.78227060653188 \n",
      "\n",
      "for max depth 5 and estimator 100\n",
      "   the validation accuration value is : 80.248833592535 \n",
      "\n",
      "for max depth 5 and estimator 200\n",
      "   the validation accuration value is : 79.93779160186625 \n",
      "\n",
      "for max depth 5 and estimator 300\n",
      "   the validation accuration value is : 80.09331259720062 \n",
      "\n",
      "for max depth 5 and estimator 400\n",
      "   the validation accuration value is : 79.93779160186625 \n",
      "\n",
      "for max depth 5 and estimator 500\n",
      "   the validation accuration value is : 79.47122861586314 \n",
      "\n",
      "for max depth 6 and estimator 100\n",
      "   the validation accuration value is : 79.93779160186625 \n",
      "\n",
      "for max depth 6 and estimator 200\n",
      "   the validation accuration value is : 80.248833592535 \n",
      "\n",
      "for max depth 6 and estimator 300\n",
      "   the validation accuration value is : 80.09331259720062 \n",
      "\n",
      "for max depth 6 and estimator 400\n",
      "   the validation accuration value is : 79.31570762052877 \n",
      "\n",
      "for max depth 6 and estimator 500\n",
      "   the validation accuration value is : 79.62674961119751 \n",
      "\n",
      "for max depth 7 and estimator 100\n",
      "   the validation accuration value is : 79.62674961119751 \n",
      "\n",
      "for max depth 7 and estimator 200\n",
      "   the validation accuration value is : 79.93779160186625 \n",
      "\n",
      "for max depth 7 and estimator 300\n",
      "   the validation accuration value is : 80.09331259720062 \n",
      "\n",
      "for max depth 7 and estimator 400\n",
      "   the validation accuration value is : 80.248833592535 \n",
      "\n",
      "for max depth 7 and estimator 500\n",
      "   the validation accuration value is : 79.78227060653188 \n",
      "\n",
      "for max depth 8 and estimator 100\n",
      "   the validation accuration value is : 79.93779160186625 \n",
      "\n",
      "for max depth 8 and estimator 200\n",
      "   the validation accuration value is : 79.78227060653188 \n",
      "\n",
      "for max depth 8 and estimator 300\n",
      "   the validation accuration value is : 79.78227060653188 \n",
      "\n",
      "for max depth 8 and estimator 400\n",
      "   the validation accuration value is : 80.248833592535 \n",
      "\n",
      "for max depth 8 and estimator 500\n",
      "   the validation accuration value is : 80.09331259720062 \n",
      "\n",
      "for max depth 9 and estimator 100\n",
      "   the validation accuration value is : 80.09331259720062 \n",
      "\n",
      "for max depth 9 and estimator 200\n",
      "   the validation accuration value is : 80.248833592535 \n",
      "\n",
      "for max depth 9 and estimator 300\n",
      "   the validation accuration value is : 79.93779160186625 \n",
      "\n",
      "for max depth 9 and estimator 400\n",
      "   the validation accuration value is : 80.09331259720062 \n",
      "\n",
      "for max depth 9 and estimator 500\n",
      "   the validation accuration value is : 80.09331259720062 \n",
      "\n"
     ]
    }
   ],
   "source": [
    "#looking optimum hyperparameter value\n",
    "max_dept_list = [1,2,3,4,5,6,7,8,9]\n",
    "n_estimator_list = [100,200,300,400,500]\n",
    "for md in max_dept_list:\n",
    "    for nest in n_estimator_list:\n",
    "        rf = RandomForestClassifier(max_depth=md, n_estimators=nest)\n",
    "        rf.fit(features_train, target_train)\n",
    "\n",
    "        y_prediction_valid = rf.predict(features_valid)\n",
    "        \n",
    "        acc_valid = accuracy_score (target_valid, y_prediction_valid)*100\n",
    "\n",
    "        print(f'for max depth {md} and estimator {nest}')\n",
    "        print(f'   the validation accuration value is : {acc_valid} ')\n",
    "        print('')\n"
   ]
  },
  {
   "cell_type": "code",
   "execution_count": 16,
   "metadata": {},
   "outputs": [
    {
     "name": "stdout",
     "output_type": "stream",
     "text": [
      "79.78227060653188\n",
      "81.33748055987559\n"
     ]
    }
   ],
   "source": [
    "max_depth_best = 9\n",
    "n_estimators_best = 200\n",
    "\n",
    "rf = RandomForestClassifier (max_depth=max_depth_best,n_estimators=n_estimators_best)\n",
    "rf.fit(features_train, target_train)\n",
    "\n",
    "y_prediction_valid_2 = rf.predict(features_valid)\n",
    "y_prediction_test_2 = rf.predict(features_test)\n",
    "\n",
    "print(accuracy_score (target_valid, y_prediction_valid_2)*100)\n",
    "print(accuracy_score (target_test, y_prediction_test_2)*100)"
   ]
  },
  {
   "cell_type": "markdown",
   "metadata": {},
   "source": [
    "RandomForest regression findings :\n",
    "\n",
    "- the optimum testing accuracy score at : max_depth_best = 9 and n_estimators_best = 200\n",
    "- the quality of model with hyperparameters tuning :\n",
    "  - validation accuracy score increasing from 79.62674961119751 to 81.64852255054433\n",
    "  - testing accuracy score increasing from 78.38258164852256 to 80.87091757387248\n",
    "  - the hyperparameters tunning result is slightly changing on every iteration/trial"
   ]
  },
  {
   "cell_type": "markdown",
   "metadata": {},
   "source": [
    "### Perform a sanity check on the model"
   ]
  },
  {
   "cell_type": "code",
   "execution_count": 17,
   "metadata": {},
   "outputs": [
    {
     "data": {
      "text/plain": [
       "0    2229\n",
       "1     985\n",
       "Name: is_ultra, dtype: int64"
      ]
     },
     "execution_count": 17,
     "metadata": {},
     "output_type": "execute_result"
    }
   ],
   "source": [
    "#checking is_ultra column\n",
    "df['is_ultra'].value_counts()"
   ]
  },
  {
   "cell_type": "code",
   "execution_count": 18,
   "metadata": {},
   "outputs": [
    {
     "data": {
      "text/plain": [
       "0    69.352831\n",
       "1    30.647169\n",
       "Name: is_ultra, dtype: float64"
      ]
     },
     "execution_count": 18,
     "metadata": {},
     "output_type": "execute_result"
    }
   ],
   "source": [
    "# percentage (%) of is_ultra data\n",
    "df['is_ultra'].value_counts()/df.shape[0]*100"
   ]
  },
  {
   "cell_type": "markdown",
   "metadata": {},
   "source": [
    "- finding :\n",
    "  - dataset proportion is unbalance, '0' value is dominant with 70% portion\n",
    "  - unbalance dataset will generate unproper model\n",
    "  - data accuration score will be low"
   ]
  },
  {
   "cell_type": "markdown",
   "metadata": {},
   "source": [
    "## Conclussion"
   ]
  },
  {
   "cell_type": "markdown",
   "metadata": {},
   "source": [
    "Based on the MEGALINE customer dataset we have several point :\n",
    "\n",
    "- Finding :\n",
    "  - customer with SMART plan package is dominant (70% of total customer using smart plan package)\n",
    "  - prior generating the model, dataset separate in to: training set, validation set and testing set\n",
    "    - dataset shape and features (training set, validation set and testing set) shape has the same value ( 1928 + 643 + 643 = 3124 ) \n",
    "    - the range of validation and testing accuracy scores is quite close\n",
    "    - data is not overfitting\n",
    "  - DecisionTree regression findings :\n",
    "    - with max_depth = 3, the quality of model with hyperparameters tuning :\n",
    "    - validation accuracy score increasing from 70.13996889580093 to 79.93779160186625\n",
    "    - testing accuracy score increasing from 72.00622083981337 to 77.91601866251943\n",
    "  - RandomForest regression findings :\n",
    "    - the optimum testing accuracy score at : max_depth_best = 9 and n_estimators_best = 200\n",
    "    - the quality of model with hyperparameters tuning :\n",
    "      - validation accuracy score increasing from 79.62674961119751 to 81.64852255054433\n",
    "      - testing accuracy score increasing from 78.38258164852256 to 80.87091757387248\n",
    "      - the hyperparameters tunning result is slightly changing on every iteration/trial\n",
    "\n",
    "- Insight  \n",
    "  - unbalance dataset will generate unproper model\n",
    "  - data accuration score will be low\n",
    "  - data is not overfitting\n",
    "\n",
    "- Recomendation\n",
    "  - RandomForest regression with max_depth_best = 9 and n_estimators_best = 200 is the best model to help MEGALINE understand the customer's behaviours chossing their plan package"
   ]
  }
 ],
 "metadata": {
  "kernelspec": {
   "display_name": "Python 3 (ipykernel)",
   "language": "python",
   "name": "python3"
  },
  "language_info": {
   "codemirror_mode": {
    "name": "ipython",
    "version": 3
   },
   "file_extension": ".py",
   "mimetype": "text/x-python",
   "name": "python",
   "nbconvert_exporter": "python",
   "pygments_lexer": "ipython3",
   "version": "3.9.5"
  },
  "toc": {
   "base_numbering": 1,
   "nav_menu": {},
   "number_sections": true,
   "sideBar": true,
   "skip_h1_title": true,
   "title_cell": "Table of Contents",
   "title_sidebar": "Contents",
   "toc_cell": false,
   "toc_position": {},
   "toc_section_display": true,
   "toc_window_display": false
  }
 },
 "nbformat": 4,
 "nbformat_minor": 2
}
